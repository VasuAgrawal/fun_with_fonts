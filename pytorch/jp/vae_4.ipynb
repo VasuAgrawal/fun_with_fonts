{
 "cells": [
  {
   "cell_type": "code",
   "execution_count": 6,
   "metadata": {},
   "outputs": [],
   "source": [
    "import torch\n",
    "import torchvision\n",
    "import torchvision.transforms as transforms"
   ]
  },
  {
   "cell_type": "code",
   "execution_count": 7,
   "metadata": {},
   "outputs": [
    {
     "name": "stdout",
     "output_type": "stream",
     "text": [
      "Train dataset has 63171 examples\n"
     ]
    },
    {
     "data": {
      "image/png": "[encoded data removed]",
      "text/plain": [
       "<Figure size 432x288 with 1 Axes>"
      ]
     },
     "metadata": {
      "needs_background": "light"
     },
     "output_type": "display_data"
    },
    {
     "name": "stdout",
     "output_type": "stream",
     "text": [
      "torch.Size([128, 1, 64, 64])\n"
     ]
    }
   ],
   "source": [
    "import PIL\n",
    "import os\n",
    "import pathlib\n",
    "\n",
    "torch.manual_seed(42)\n",
    "\n",
    "class FlatImageFolder(torch.utils.data.Dataset):\n",
    "    def __init__(self, path, transform):\n",
    "        self._path = pathlib.Path(path)\n",
    "        self._transform = transform\n",
    "        self._image_paths = list(self._path.iterdir())\n",
    "        \n",
    "    def __len__(self):\n",
    "        return len(self._image_paths)\n",
    "    \n",
    "    def __getitem__(self, idx):\n",
    "        with open(self._image_paths[idx], 'rb') as f:\n",
    "            img = PIL.Image.open(f)\n",
    "            img = img.convert(\"L\")\n",
    "            \n",
    "            return self._transform(img)\n",
    "\n",
    "transform = transforms.Compose([\n",
    "    transforms.ToTensor(),\n",
    "    transforms.Pad(7),\n",
    "#     transforms.Pad((3, 3, 4, 4)),\n",
    "])\n",
    "\n",
    "# train_dataset = FlatImageFolder(\"/data/datasets/fonts/rendered/numbers_small/4\", transform)\n",
    "train_dataset = FlatImageFolder(\"/data/datasets/fonts/rendered/numbers/4\", transform)\n",
    "print(f\"Train dataset has {len(train_dataset)} examples\")\n",
    "\n",
    "train_loader = torch.utils.data.DataLoader(train_dataset, batch_size=128, shuffle=True, num_workers=10)\n",
    "train_iter = iter(train_loader)\n",
    "train_images = train_iter.next()\n",
    "\n",
    "import matplotlib.pyplot as plt\n",
    "import numpy as np\n",
    "\n",
    "def imshow(img):\n",
    "#     img = img / 2 + 0.5\n",
    "    npimg = img.numpy()\n",
    "    plt.imshow(np.transpose(npimg, (1, 2, 0)))\n",
    "    plt.show()\n",
    "\n",
    "imshow(torchvision.utils.make_grid(train_images[:16]))\n",
    "print(train_images.shape)"
   ]
  },
  {
   "cell_type": "code",
   "execution_count": 8,
   "metadata": {
    "scrolled": false
   },
   "outputs": [
    {
     "name": "stdout",
     "output_type": "stream",
     "text": [
      "Batch output shape: torch.Size([128, 1, 64, 64])\n",
      "\n",
      "Parameters 0 torch.Size([16, 1, 3, 3])\n",
      "Parameters 1 torch.Size([16])\n",
      "Parameters 2 torch.Size([32, 16, 3, 3])\n",
      "Parameters 3 torch.Size([32])\n",
      "Parameters 4 torch.Size([64, 32, 3, 3])\n",
      "Parameters 5 torch.Size([64])\n",
      "Parameters 6 torch.Size([128, 64, 3, 3])\n",
      "Parameters 7 torch.Size([128])\n",
      "Parameters 8 torch.Size([256, 128, 3, 3])\n",
      "Parameters 9 torch.Size([256])\n",
      "Parameters 10 torch.Size([128, 1024])\n",
      "Parameters 11 torch.Size([128])\n",
      "Parameters 12 torch.Size([4, 128])\n",
      "Parameters 13 torch.Size([4])\n",
      "Parameters 14 torch.Size([128, 4])\n",
      "Parameters 15 torch.Size([128])\n",
      "Parameters 16 torch.Size([1024, 128])\n",
      "Parameters 17 torch.Size([1024])\n",
      "Parameters 18 torch.Size([256, 128, 3, 3])\n",
      "Parameters 19 torch.Size([128])\n",
      "Parameters 20 torch.Size([128, 64, 3, 3])\n",
      "Parameters 21 torch.Size([64])\n",
      "Parameters 22 torch.Size([64, 32, 3, 3])\n",
      "Parameters 23 torch.Size([32])\n",
      "Parameters 24 torch.Size([32, 16, 3, 3])\n",
      "Parameters 25 torch.Size([16])\n",
      "Parameters 26 torch.Size([16, 1, 3, 3])\n",
      "Parameters 27 torch.Size([1])\n",
      "Trainable parameters: 1048837\n"
     ]
    }
   ],
   "source": [
    "import torch.nn as nn\n",
    "import torch.nn.functional as F\n",
    "    \n",
    "# https://www.cs.toronto.edu/~lczhang/360/lec/w05/autoencoder.html\n",
    "# https://arxiv.org/pdf/1808.00362.pdf\n",
    "class Autoencoder(nn.Module):\n",
    "    def __init__(self):\n",
    "        super(Autoencoder, self).__init__()\n",
    "        self.encoder_conv = nn.Sequential(\n",
    "            nn.Conv2d(1, 16, 3, stride=2, padding=1),\n",
    "            nn.LeakyReLU(.2),\n",
    "            nn.Conv2d(16, 32, 3, stride=2, padding=1),\n",
    "            nn.LeakyReLU(.2),\n",
    "            nn.Conv2d(32, 64, 3, stride=2, padding=1),\n",
    "            nn.LeakyReLU(.2),\n",
    "            nn.Conv2d(64, 128, 3, stride=2, padding=1),\n",
    "            nn.LeakyReLU(.2),\n",
    "            nn.Conv2d(128, 256, 3, stride=2, padding=1),\n",
    "        )\n",
    "        \n",
    "        self.encoder_linear = nn.Sequential(\n",
    "            nn.LeakyReLU(.2), # what should be applied on the conv\n",
    "            nn.Linear(256*2*2, 128),\n",
    "            nn.LeakyReLU(.2),\n",
    "            nn.Linear(128, 4),\n",
    "        )\n",
    "\n",
    "        self.decoder_linear = nn.Sequential(\n",
    "            nn.Linear(4, 128),\n",
    "            nn.LeakyReLU(.2),\n",
    "            nn.Linear(128, 256*2*2),\n",
    "            nn.LeakyReLU(.2),\n",
    "        )\n",
    "\n",
    "        self.decoder_conv = nn.Sequential(\n",
    "            nn.ConvTranspose2d(256, 128, 3, stride=2, padding=1, output_padding=1),\n",
    "            nn.LeakyReLU(.2),\n",
    "            nn.ConvTranspose2d(128, 64, 3, stride=2, padding=1, output_padding=1),\n",
    "            nn.LeakyReLU(.2),\n",
    "            nn.ConvTranspose2d(64, 32, 3, stride=2, padding=1, output_padding=1),\n",
    "            nn.LeakyReLU(.2),\n",
    "            nn.ConvTranspose2d(32, 16, 3, stride=2, padding=1, output_padding=1),\n",
    "            nn.LeakyReLU(.2),\n",
    "            nn.ConvTranspose2d(16, 1, 3, stride=2, padding=1, output_padding=1),\n",
    "            nn.Sigmoid()\n",
    "        )\n",
    "\n",
    "    def forward(self, x):\n",
    "        x = self.encoder_conv(x)\n",
    "        x = x.view(-1, 256*2*2)\n",
    "        x = self.encoder_linear(x)\n",
    "        \n",
    "        x = self.decoder_linear(x)\n",
    "        x = x.view(-1, 256, 2, 2)\n",
    "        x = self.decoder_conv(x)\n",
    "        return x\n",
    "\n",
    "net = Autoencoder()\n",
    "n = net(train_images)\n",
    "print(\"Batch output shape:\", n.shape)\n",
    "print()\n",
    "\n",
    "for i, p in enumerate(net.parameters()):\n",
    "    print(\"Parameters\", i, p.size())\n",
    "print(\"Trainable parameters:\", sum([p.numel() for p in net.parameters()]))"
   ]
  },
  {
   "cell_type": "code",
   "execution_count": 9,
   "metadata": {},
   "outputs": [
    {
     "name": "stdout",
     "output_type": "stream",
     "text": [
      "Let's use 2 GPUs!\n"
     ]
    },
    {
     "data": {
      "text/plain": [
       "DataParallel(\n",
       "  (module): Autoencoder(\n",
       "    (encoder_conv): Sequential(\n",
       "      (0): Conv2d(1, 16, kernel_size=(3, 3), stride=(2, 2), padding=(1, 1))\n",
       "      (1): LeakyReLU(negative_slope=0.2)\n",
       "      (2): Conv2d(16, 32, kernel_size=(3, 3), stride=(2, 2), padding=(1, 1))\n",
       "      (3): LeakyReLU(negative_slope=0.2)\n",
       "      (4): Conv2d(32, 64, kernel_size=(3, 3), stride=(2, 2), padding=(1, 1))\n",
       "      (5): LeakyReLU(negative_slope=0.2)\n",
       "      (6): Conv2d(64, 128, kernel_size=(3, 3), stride=(2, 2), padding=(1, 1))\n",
       "      (7): LeakyReLU(negative_slope=0.2)\n",
       "      (8): Conv2d(128, 256, kernel_size=(3, 3), stride=(2, 2), padding=(1, 1))\n",
       "    )\n",
       "    (encoder_linear): Sequential(\n",
       "      (0): LeakyReLU(negative_slope=0.2)\n",
       "      (1): Linear(in_features=1024, out_features=128, bias=True)\n",
       "      (2): LeakyReLU(negative_slope=0.2)\n",
       "      (3): Linear(in_features=128, out_features=4, bias=True)\n",
       "    )\n",
       "    (decoder_linear): Sequential(\n",
       "      (0): Linear(in_features=4, out_features=128, bias=True)\n",
       "      (1): LeakyReLU(negative_slope=0.2)\n",
       "      (2): Linear(in_features=128, out_features=1024, bias=True)\n",
       "      (3): LeakyReLU(negative_slope=0.2)\n",
       "    )\n",
       "    (decoder_conv): Sequential(\n",
       "      (0): ConvTranspose2d(256, 128, kernel_size=(3, 3), stride=(2, 2), padding=(1, 1), output_padding=(1, 1))\n",
       "      (1): LeakyReLU(negative_slope=0.2)\n",
       "      (2): ConvTranspose2d(128, 64, kernel_size=(3, 3), stride=(2, 2), padding=(1, 1), output_padding=(1, 1))\n",
       "      (3): LeakyReLU(negative_slope=0.2)\n",
       "      (4): ConvTranspose2d(64, 32, kernel_size=(3, 3), stride=(2, 2), padding=(1, 1), output_padding=(1, 1))\n",
       "      (5): LeakyReLU(negative_slope=0.2)\n",
       "      (6): ConvTranspose2d(32, 16, kernel_size=(3, 3), stride=(2, 2), padding=(1, 1), output_padding=(1, 1))\n",
       "      (7): LeakyReLU(negative_slope=0.2)\n",
       "      (8): ConvTranspose2d(16, 1, kernel_size=(3, 3), stride=(2, 2), padding=(1, 1), output_padding=(1, 1))\n",
       "      (9): Sigmoid()\n",
       "    )\n",
       "  )\n",
       ")"
      ]
     },
     "execution_count": 9,
     "metadata": {},
     "output_type": "execute_result"
    }
   ],
   "source": [
    "device = torch.device(\"cuda:0\" if torch.cuda.is_available() else \"cpu\")\n",
    "if torch.cuda.device_count() > 1:\n",
    "  print(\"Let's use\", torch.cuda.device_count(), \"GPUs!\")\n",
    "  net = nn.DataParallel(net)\n",
    "\n",
    "net.to(device)"
   ]
  },
  {
   "cell_type": "code",
   "execution_count": 10,
   "metadata": {
    "scrolled": true
   },
   "outputs": [
    {
     "name": "stdout",
     "output_type": "stream",
     "text": [
      "[Step   200] train loss: 0.0327\n",
      "[Step   400] train loss: 0.0272\n",
      "[Step   600] train loss: 0.0200\n",
      "[Step   800] train loss: 0.0156\n",
      "[Step  1000] train loss: 0.0137\n",
      "[Step  1200] train loss: 0.0135\n",
      "[Step  1400] train loss: 0.0128\n",
      "[Step  1600] train loss: 0.0118\n",
      "[Step  1800] train loss: 0.0106\n",
      "[Step  2000] train loss: 0.0111\n",
      "[Step  2200] train loss: 0.0105\n",
      "[Step  2400] train loss: 0.0104\n",
      "Finished training!\n"
     ]
    }
   ],
   "source": [
    "import torch.optim as optim\n",
    "from torch.utils.tensorboard import SummaryWriter\n",
    "\n",
    "writer = SummaryWriter()\n",
    "\n",
    "criterion = nn.MSELoss()\n",
    "optimizer = optim.Adam(net.parameters(), lr=.001)\n",
    "# optimizer = optim.SGD(net.parameters(), lr=.001)\n",
    "\n",
    "global_step = 0\n",
    "for epoch in range(5):\n",
    "    \n",
    "    for train_minibatch, train_inputs in enumerate(train_loader):\n",
    "        global_step += 1\n",
    "        \n",
    "        train_inputs = train_inputs.to(device)\n",
    "        \n",
    "        optimizer.zero_grad()\n",
    "        train_outputs = net(train_inputs)\n",
    "        train_loss = criterion(train_outputs, train_inputs)\n",
    "        train_loss.backward()\n",
    "        optimizer.step()\n",
    "        \n",
    "        writer.add_scalar(\"Loss/train\", train_loss.item(), global_step)\n",
    "        \n",
    "        with torch.no_grad():\n",
    "            if global_step % 200 == 0:\n",
    "                print(\"[Step {:5d}] train loss: {:0.4f}\".format(global_step, train_loss.item()))\n",
    "                \n",
    "                writer.add_images(\"Images/train_inputs\", train_inputs[:100], global_step)\n",
    "                writer.add_images(\"Images/train_outputs\", train_outputs[:100], global_step)\n",
    "            \n",
    "#                 # Now run through the full test dataset\n",
    "#                 test_loss = 0\n",
    "#                 test_total = 0\n",
    "#                 test_correct = 0\n",
    "#                 for test_minibatch, (test_inputs, test_labels) in enumerate(test_loader):\n",
    "#                     test_inputs, test_labels = test_inputs.to(device), test_labels.to(device)\n",
    "\n",
    "#                     test_outputs = net(test_inputs)\n",
    "#                     test_loss += criterion(test_outputs, test_labels) * test_labels.size(0)\n",
    "\n",
    "#                     _, test_predicted = torch.max(test_outputs.data, 1)\n",
    "#                     test_total += test_labels.size(0)\n",
    "#                     test_correct += (test_predicted == test_labels).sum().item()\n",
    "\n",
    "#                 test_loss /= test_total\n",
    "#                 test_accuracy = test_correct / test_total\n",
    "\n",
    "#                 print(\"test loss: {:0.4f}, accuracy: {:0.3f} ({:3d} / {:3d})\".format(\n",
    "#                     test_loss, test_accuracy, test_correct, test_total\n",
    "#                 ))\n",
    "                \n",
    "#                 writer.add_scalar(\"Loss/test\", test_loss.item(), global_step)\n",
    "#                 writer.add_scalar(\"Accuracy/test\", test_accuracy, global_step)\n",
    "#                 writer.add_images(\"Images/test\", test_inputs[:100], global_step)\n",
    "#                 writer.add_images(\"Images/train\", train_inputs[:100], global_step)\n",
    "\n",
    "writer.close()\n",
    "\n",
    "            \n",
    "print(\"Finished training!\")"
   ]
  }
 ],
 "metadata": {
  "kernelspec": {
   "display_name": "Python 3",
   "language": "python",
   "name": "python3"
  },
  "language_info": {
   "codemirror_mode": {
    "name": "ipython",
    "version": 3
   },
   "file_extension": ".py",
   "mimetype": "text/x-python",
   "name": "python",
   "nbconvert_exporter": "python",
   "pygments_lexer": "ipython3",
   "version": "3.8.5"
  }
 },
 "nbformat": 4,
 "nbformat_minor": 4
}
