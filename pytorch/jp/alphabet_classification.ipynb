{
 "cells": [
  {
   "cell_type": "code",
   "execution_count": 1,
   "metadata": {},
   "outputs": [
    {
     "data": {
      "text/plain": [
       "<torch._C.Generator at 0x7f83bc02bbd0>"
      ]
     },
     "execution_count": 1,
     "metadata": {},
     "output_type": "execute_result"
    }
   ],
   "source": [
    "import torch\n",
    "import torchvision\n",
    "import torchvision.transforms as transforms\n",
    "\n",
    "torch.manual_seed(42)"
   ]
  },
  {
   "cell_type": "code",
   "execution_count": 2,
   "metadata": {},
   "outputs": [
    {
     "name": "stdout",
     "output_type": "stream",
     "text": [
      "Classes: ['A', 'B', 'C', 'D', 'E', 'F', 'G', 'H', 'I', 'J', 'K', 'L', 'M', 'N', 'O', 'P', 'Q', 'R', 'S', 'T', 'U', 'V', 'W', 'X', 'Y', 'Z']\n",
      "Batch shape: torch.Size([200, 1, 50, 50])\n",
      "Labels: tensor([ 4, 25,  3, 23,  0, 10, 24, 24,  0, 12, 17,  3,  8, 19, 15,  4, 23,  4,\n",
      "        14,  2, 13,  8, 24,  6,  3, 12, 19, 24, 10,  0,  3, 14,  0,  2, 13,  4,\n",
      "        15, 17, 24, 20,  4, 20,  4, 10,  6, 17,  0, 16,  2,  0, 13, 10,  1,  9,\n",
      "         4, 15,  1, 21,  6,  1,  8, 15, 12,  0,  5,  7, 16, 16, 12, 12,  6, 24,\n",
      "         7, 11, 24, 12,  4,  6,  2, 20,  2, 13,  9,  2,  2,  9,  2,  7,  4,  8,\n",
      "        14,  4,  1,  4, 25,  3, 19,  7, 22, 23,  5,  0,  5, 22,  1, 15, 24,  8,\n",
      "        14,  4,  9, 20, 16,  8, 21, 22,  4, 24, 18, 17, 23, 16,  6,  5, 16, 17,\n",
      "        11,  6,  3,  6, 17, 25, 25, 13,  4,  6, 13,  6,  8,  4,  1, 25,  7, 18,\n",
      "         5,  7, 17, 18, 17, 15, 13, 23,  7, 23,  5, 23, 25, 24,  1,  2,  1, 17,\n",
      "        25,  6,  2, 15, 10,  2, 12, 24, 14, 14,  4, 12,  9, 12,  1,  2, 22, 18,\n",
      "         5, 14, 14, 21, 22,  7,  4, 17, 10,  9,  9, 19, 25, 17,  0,  2, 12,  2,\n",
      "         6, 14])\n"
     ]
    }
   ],
   "source": [
    "import PIL\n",
    "\n",
    "def monoImageLoader(path):\n",
    "    with open(path, 'rb') as f:\n",
    "        img = PIL.Image.open(f)\n",
    "        return img.convert(\"L\")\n",
    "    \n",
    "transform = transforms.Compose([\n",
    "    transforms.ToTensor(),\n",
    "    transforms.Normalize((0.5), (0.5))\n",
    "])\n",
    "\n",
    "train_dataset = torchvision.datasets.ImageFolder(\n",
    "    root = '/data/datasets/fonts/rendered/alphabet_upper_split_05/train',\n",
    "    loader = monoImageLoader,\n",
    "    transform = transform\n",
    ")\n",
    "train_loader = torch.utils.data.DataLoader(\n",
    "    train_dataset, batch_size=200, shuffle=True,num_workers=10\n",
    ")\n",
    "\n",
    "test_dataset = torchvision.datasets.ImageFolder(\n",
    "    root = '/data/datasets/fonts/rendered/alphabet_upper_split_05/test',\n",
    "    loader = monoImageLoader,\n",
    "    transform = transform\n",
    ")\n",
    "test_loader = torch.utils.data.DataLoader(\n",
    "    test_dataset, batch_size=5000, shuffle=False,num_workers=10\n",
    ")\n",
    "\n",
    "assert(train_dataset.classes == test_dataset.classes)\n",
    "print(\"Classes:\", train_dataset.classes)\n",
    "\n",
    "train_iter = iter(train_loader)\n",
    "test_iter = iter(test_loader)\n",
    "train_images, train_labels = train_iter.next()\n",
    "print(\"Batch shape:\", train_images.size())\n",
    "print(\"Labels:\", train_labels)"
   ]
  },
  {
   "cell_type": "code",
   "execution_count": 3,
   "metadata": {},
   "outputs": [
    {
     "data": {
      "image/png": "[encoded data removed]",
      "text/plain": [
       "<Figure size 432x288 with 1 Axes>"
      ]
     },
     "metadata": {
      "needs_background": "light"
     },
     "output_type": "display_data"
    }
   ],
   "source": [
    "import matplotlib.pyplot as plt\n",
    "import numpy as np\n",
    "\n",
    "def imshow(img):\n",
    "    img = img / 2 + 0.5\n",
    "    npimg = img.numpy()\n",
    "    plt.imshow(np.transpose(npimg, (1, 2, 0)))\n",
    "    plt.show()\n",
    "\n",
    "imshow(torchvision.utils.make_grid(train_images[:8]))"
   ]
  },
  {
   "cell_type": "code",
   "execution_count": 4,
   "metadata": {},
   "outputs": [
    {
     "name": "stdout",
     "output_type": "stream",
     "text": [
      "Batch output shape: torch.Size([200, 26])\n",
      "Parameters 0 torch.Size([6, 1, 3, 3])\n",
      "Parameters 1 torch.Size([6])\n",
      "Parameters 2 torch.Size([16, 6, 3, 3])\n",
      "Parameters 3 torch.Size([16])\n",
      "Parameters 4 torch.Size([16, 16, 3, 3])\n",
      "Parameters 5 torch.Size([16])\n",
      "Parameters 6 torch.Size([120, 256])\n",
      "Parameters 7 torch.Size([120])\n",
      "Parameters 8 torch.Size([84, 120])\n",
      "Parameters 9 torch.Size([84])\n",
      "Parameters 10 torch.Size([26, 84])\n",
      "Parameters 11 torch.Size([26])\n",
      "Trainable parameters: 46474\n"
     ]
    }
   ],
   "source": [
    "import torch.nn as nn\n",
    "import torch.nn.functional as F\n",
    "\n",
    "class Net(nn.Module):\n",
    "    def __init__(self):\n",
    "        super(Net, self).__init__()\n",
    "        self.conv1 = nn.Conv2d(1, 6, 3)\n",
    "        self.pool = nn.MaxPool2d(2, 2)\n",
    "        self.conv2 = nn.Conv2d(6, 16, 3)\n",
    "        self.conv3 = nn.Conv2d(16, 16, 3)\n",
    "        self.fc1 = nn.Linear(16 * 4 * 4, 120)\n",
    "        self.fc2 = nn.Linear(120, 84)\n",
    "        self.fc3 = nn.Linear(84, len(train_dataset.classes))\n",
    "        \n",
    "    def forward(self, x):\n",
    "        x = self.pool(F.relu(self.conv1(x)))\n",
    "        x = self.pool(F.relu(self.conv2(x)))\n",
    "        x = self.pool(F.relu(self.conv3(x)))\n",
    "        x = x.view(-1, 16 * 4 * 4)\n",
    "        x = F.relu(self.fc1(x))\n",
    "        x = F.relu(self.fc2(x))\n",
    "        x = self.fc3(x)\n",
    "        \n",
    "        return x\n",
    "    \n",
    "net = Net()\n",
    "n = net(train_images)\n",
    "print(\"Batch output shape:\", n.shape)\n",
    "\n",
    "for i, p in enumerate(net.parameters()):\n",
    "    print(\"Parameters\", i, p.size())\n",
    "print(\"Trainable parameters:\", sum([p.numel() for p in net.parameters()]))"
   ]
  },
  {
   "cell_type": "code",
   "execution_count": 5,
   "metadata": {},
   "outputs": [
    {
     "name": "stdout",
     "output_type": "stream",
     "text": [
      "Let's use 2 GPUs!\n"
     ]
    },
    {
     "data": {
      "text/plain": [
       "DataParallel(\n",
       "  (module): Net(\n",
       "    (conv1): Conv2d(1, 6, kernel_size=(3, 3), stride=(1, 1))\n",
       "    (pool): MaxPool2d(kernel_size=2, stride=2, padding=0, dilation=1, ceil_mode=False)\n",
       "    (conv2): Conv2d(6, 16, kernel_size=(3, 3), stride=(1, 1))\n",
       "    (conv3): Conv2d(16, 16, kernel_size=(3, 3), stride=(1, 1))\n",
       "    (fc1): Linear(in_features=256, out_features=120, bias=True)\n",
       "    (fc2): Linear(in_features=120, out_features=84, bias=True)\n",
       "    (fc3): Linear(in_features=84, out_features=26, bias=True)\n",
       "  )\n",
       ")"
      ]
     },
     "execution_count": 5,
     "metadata": {},
     "output_type": "execute_result"
    }
   ],
   "source": [
    "device = torch.device(\"cuda:0\" if torch.cuda.is_available() else \"cpu\")\n",
    "if torch.cuda.device_count() > 1:\n",
    "  print(\"Let's use\", torch.cuda.device_count(), \"GPUs!\")\n",
    "  # dim = 0 [30, xxx] -> [10, ...], [10, ...], [10, ...] on 3 GPUs\n",
    "  net = nn.DataParallel(net)\n",
    "\n",
    "net.to(device)"
   ]
  },
  {
   "cell_type": "code",
   "execution_count": 7,
   "metadata": {
    "scrolled": false
   },
   "outputs": [
    {
     "name": "stdout",
     "output_type": "stream",
     "text": [
      "[Step   200] train loss: 3.2512, accuracy: 0.035 (  7 / 200), test loss: 3.2537, accuracy: 0.038 (4558 / 120223)\n",
      "[Step   400] train loss: 3.2397, accuracy: 0.110 ( 22 / 200), test loss: 3.2449, accuracy: 0.085 (10239 / 120223)\n",
      "[Step   600] train loss: 3.2012, accuracy: 0.120 ( 24 / 200), test loss: 3.1977, accuracy: 0.124 (14883 / 120223)\n",
      "[Step   800] train loss: 1.1062, accuracy: 0.650 (130 / 200), test loss: 0.9392, accuracy: 0.725 (87221 / 120223)\n",
      "[Step  1000] train loss: 0.3713, accuracy: 0.875 (175 / 200), test loss: 0.4359, accuracy: 0.878 (105558 / 120223)\n",
      "[Step  1200] train loss: 0.2446, accuracy: 0.920 (184 / 200), test loss: 0.2903, accuracy: 0.922 (110791 / 120223)\n",
      "[Step  1400] train loss: 0.1670, accuracy: 0.960 (192 / 200), test loss: 0.2525, accuracy: 0.936 (112517 / 120223)\n",
      "[Step  1600] train loss: 0.2995, accuracy: 0.920 (184 / 200), test loss: 0.2062, accuracy: 0.948 (113942 / 120223)\n",
      "[Step  1800] train loss: 0.2031, accuracy: 0.940 (188 / 200), test loss: 0.1828, accuracy: 0.952 (114502 / 120223)\n",
      "[Step  2000] train loss: 0.2750, accuracy: 0.955 (191 / 200), test loss: 0.1608, accuracy: 0.958 (115208 / 120223)\n",
      "[Step  2200] train loss: 0.1982, accuracy: 0.945 (189 / 200), test loss: 0.2083, accuracy: 0.943 (113419 / 120223)\n",
      "[Step  2400] train loss: 0.1767, accuracy: 0.950 (190 / 200), test loss: 0.1319, accuracy: 0.965 (115986 / 120223)\n",
      "[Step  2600] train loss: 0.1368, accuracy: 0.950 (190 / 200), test loss: 0.1352, accuracy: 0.964 (115853 / 120223)\n",
      "[Step  2800] train loss: 0.0963, accuracy: 0.980 (196 / 200), test loss: 0.1166, accuracy: 0.969 (116545 / 120223)\n",
      "[Step  3000] train loss: 0.0680, accuracy: 0.960 (192 / 200), test loss: 0.1187, accuracy: 0.964 (115855 / 120223)\n",
      "[Step  3200] train loss: 0.0905, accuracy: 0.990 (198 / 200), test loss: 0.1005, accuracy: 0.974 (117130 / 120223)\n",
      "[Step  3400] train loss: 0.1521, accuracy: 0.955 (191 / 200), test loss: 0.0915, accuracy: 0.977 (117414 / 120223)\n",
      "[Step  3600] train loss: 0.0813, accuracy: 0.960 (192 / 200), test loss: 0.0917, accuracy: 0.977 (117461 / 120223)\n",
      "[Step  3800] train loss: 0.1077, accuracy: 0.970 (194 / 200), test loss: 0.0799, accuracy: 0.979 (117743 / 120223)\n",
      "[Step  4000] train loss: 0.0412, accuracy: 0.985 (197 / 200), test loss: 0.0794, accuracy: 0.980 (117799 / 120223)\n",
      "[Step  4200] train loss: 0.0603, accuracy: 0.990 (198 / 200), test loss: 0.0921, accuracy: 0.974 (117079 / 120223)\n",
      "[Step  4400] train loss: 0.0849, accuracy: 0.980 (196 / 200), test loss: 0.0740, accuracy: 0.982 (118021 / 120223)\n",
      "[Step  4600] train loss: 0.1211, accuracy: 0.975 (195 / 200), test loss: 0.0741, accuracy: 0.981 (117943 / 120223)\n",
      "[Step  4800] train loss: 0.1459, accuracy: 0.980 (196 / 200), test loss: 0.0715, accuracy: 0.982 (118019 / 120223)\n",
      "[Step  5000] train loss: 0.0508, accuracy: 0.990 (198 / 200), test loss: 0.0652, accuracy: 0.983 (118182 / 120223)\n",
      "[Step  5200] train loss: 0.0547, accuracy: 0.980 (196 / 200), test loss: 0.0630, accuracy: 0.984 (118342 / 120223)\n",
      "[Step  5400] train loss: 0.0767, accuracy: 0.980 (196 / 200), test loss: 0.0637, accuracy: 0.984 (118276 / 120223)\n",
      "[Step  5600] train loss: 0.0647, accuracy: 0.985 (197 / 200), test loss: 0.0620, accuracy: 0.985 (118361 / 120223)\n",
      "[Step  5800] train loss: 0.0298, accuracy: 0.990 (198 / 200), test loss: 0.0594, accuracy: 0.985 (118393 / 120223)\n",
      "[Step  6000] train loss: 0.0630, accuracy: 0.980 (196 / 200), test loss: 0.0607, accuracy: 0.985 (118408 / 120223)\n",
      "[Step  6200] train loss: 0.0286, accuracy: 0.995 (199 / 200), test loss: 0.0578, accuracy: 0.985 (118443 / 120223)\n",
      "[Step  6400] train loss: 0.0310, accuracy: 0.995 (199 / 200), test loss: 0.0536, accuracy: 0.987 (118605 / 120223)\n",
      "[Step  6600] train loss: 0.0410, accuracy: 0.990 (198 / 200), test loss: 0.0532, accuracy: 0.987 (118642 / 120223)\n",
      "[Step  6800] train loss: 0.0148, accuracy: 1.000 (200 / 200), test loss: 0.0537, accuracy: 0.986 (118516 / 120223)\n",
      "[Step  7000] train loss: 0.0693, accuracy: 0.980 (196 / 200), test loss: 0.0517, accuracy: 0.987 (118658 / 120223)\n",
      "[Step  7200] train loss: 0.0929, accuracy: 0.975 (195 / 200), test loss: 0.0507, accuracy: 0.987 (118651 / 120223)\n",
      "Finished training!\n"
     ]
    }
   ],
   "source": [
    "import torch.optim as optim\n",
    "from torch.utils.tensorboard import SummaryWriter\n",
    "\n",
    "writer = SummaryWriter(comment=\"_alphabet\")\n",
    "\n",
    "criterion = nn.CrossEntropyLoss()\n",
    "optimizer = optim.SGD(net.parameters(), lr=0.002, momentum=0.9)\n",
    "\n",
    "\n",
    "global_step = 0\n",
    "for epoch in range(1):\n",
    "    \n",
    "    for train_minibatch, (train_inputs, train_labels) in enumerate(train_loader):\n",
    "        global_step += 1\n",
    "        \n",
    "        # Core training loop\n",
    "        train_inputs, train_labels = train_inputs.to(device), train_labels.to(device)\n",
    "\n",
    "        optimizer.zero_grad()\n",
    "        train_outputs = net(train_inputs)\n",
    "        train_loss = criterion(train_outputs, train_labels)\n",
    "        train_loss.backward()\n",
    "        optimizer.step()\n",
    "        \n",
    "        writer.add_scalar(\"Loss/train\", train_loss.item(), global_step)\n",
    "        \n",
    "        with torch.no_grad():\n",
    "            # Compute metrics for this particular minibatch\n",
    "            _, train_predicted = torch.max(train_outputs.data, 1)\n",
    "            train_total = train_labels.size(0)\n",
    "            train_correct = (train_predicted == train_labels).sum().item()\n",
    "            train_accuracy = train_correct / train_total\n",
    "\n",
    "            writer.add_scalar(\"Accuracy/train\", train_accuracy, global_step)\n",
    "\n",
    "            if global_step % 200 == 0:\n",
    "                print(\"[Step {:5d}] train loss: {:0.4f}, accuracy: {:0.3f} ({:3d} / {:3d}), \".format(\n",
    "                    global_step, train_loss.item(), train_accuracy, train_correct, train_total\n",
    "                ), end = \"\")\n",
    "            \n",
    "                # Now run through the full test dataset\n",
    "                test_loss = 0\n",
    "                test_total = 0\n",
    "                test_correct = 0\n",
    "                for test_minibatch, (test_inputs, test_labels) in enumerate(test_loader):\n",
    "                    test_inputs, test_labels = test_inputs.to(device), test_labels.to(device)\n",
    "\n",
    "                    test_outputs = net(test_inputs)\n",
    "                    test_loss += criterion(test_outputs, test_labels) * test_labels.size(0)\n",
    "\n",
    "                    _, test_predicted = torch.max(test_outputs.data, 1)\n",
    "                    test_total += test_labels.size(0)\n",
    "                    test_correct += (test_predicted == test_labels).sum().item()\n",
    "\n",
    "                test_loss /= test_total\n",
    "                test_accuracy = test_correct / test_total\n",
    "\n",
    "                print(\"test loss: {:0.4f}, accuracy: {:0.3f} ({:3d} / {:3d})\".format(\n",
    "                    test_loss, test_accuracy, test_correct, test_total\n",
    "                ))\n",
    "                \n",
    "                writer.add_scalar(\"Loss/test\", test_loss.item(), global_step)\n",
    "                writer.add_scalar(\"Accuracy/test\", test_accuracy, global_step)\n",
    "                writer.add_images(\"Images/test\", test_inputs[:100], global_step)\n",
    "                writer.add_images(\"Images/train\", train_inputs[:100], global_step)\n",
    "\n",
    "            \n",
    "print(\"Finished training!\")"
   ]
  },
  {
   "cell_type": "code",
   "execution_count": null,
   "metadata": {},
   "outputs": [],
   "source": [
    "PATH = \"alphabet.pth\"\n",
    "torch.save(net.state_dict(), PATH)"
   ]
  }
 ],
 "metadata": {
  "kernelspec": {
   "display_name": "Python 3",
   "language": "python",
   "name": "python3"
  },
  "language_info": {
   "codemirror_mode": {
    "name": "ipython",
    "version": 3
   },
   "file_extension": ".py",
   "mimetype": "text/x-python",
   "name": "python",
   "nbconvert_exporter": "python",
   "pygments_lexer": "ipython3",
   "version": "3.8.5"
  }
 },
 "nbformat": 4,
 "nbformat_minor": 4
}
